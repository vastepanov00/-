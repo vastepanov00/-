{
 "cells": [
  {
   "cell_type": "markdown",
   "id": "54ee9f3d",
   "metadata": {},
   "source": [
    "<h1>Лабораторная работа №1</h1>"
   ]
  },
  {
   "cell_type": "markdown",
   "id": "0901ad24",
   "metadata": {},
   "source": [
    "Выполнил Степанов Виктор"
   ]
  },
  {
   "cell_type": "markdown",
   "id": "224e901d",
   "metadata": {},
   "source": [
    "<h4>Задание 1</h4>"
   ]
  },
  {
   "cell_type": "markdown",
   "id": "461285bd",
   "metadata": {},
   "source": [
    "Шифр Цезаря с произвольным ключом К"
   ]
  },
  {
   "cell_type": "code",
   "execution_count": 43,
   "id": "703deb26",
   "metadata": {},
   "outputs": [],
   "source": [
    "alph = [\"а\", \"б\", \"в\", \"г\", \"д\", \"е\", \"ё\", \"ж\", \"з\", \"и\", \"й\", \"к\", \"л\", \"м\", \"н\", \"о\", \"п\", \"р\", \"с\", \"т\", \"у\", \"ф\", \"х\", \"ц\", \"ч\", \"ш\", \"щ\", \"ъ\", \"ы\", \"ь\", \"э\", \"ю\",\"я\"]"
   ]
  },
  {
   "cell_type": "code",
   "execution_count": 50,
   "id": "3277e707",
   "metadata": {},
   "outputs": [
    {
     "name": "stdout",
     "output_type": "stream",
     "text": [
      "Степанов Виктор\n",
      "3\n"
     ]
    }
   ],
   "source": [
    "phr = input().lower()\n",
    "k = int(input())\n",
    "result = \"\""
   ]
  },
  {
   "cell_type": "code",
   "execution_count": 51,
   "id": "5db033fe",
   "metadata": {},
   "outputs": [],
   "source": [
    "for item in phr:\n",
    "    try:\n",
    "        current_index=alph.index(item)\n",
    "        new_index=(current_index+k)%33\n",
    "        result+=alph[new_index]\n",
    "    except ValueError:\n",
    "        result+=item"
   ]
  },
  {
   "cell_type": "code",
   "execution_count": 52,
   "id": "92ec6c07",
   "metadata": {},
   "outputs": [
    {
     "name": "stdout",
     "output_type": "stream",
     "text": [
      "фхзтгрсе елнхсу\n"
     ]
    }
   ],
   "source": [
    "print(result)"
   ]
  },
  {
   "cell_type": "markdown",
   "id": "5960cb55",
   "metadata": {},
   "source": [
    "<h4>Задание 2</h4>"
   ]
  },
  {
   "cell_type": "markdown",
   "id": "1949f317",
   "metadata": {},
   "source": [
    "Шифр Атбаш"
   ]
  },
  {
   "cell_type": "code",
   "execution_count": 38,
   "id": "452d2bcf",
   "metadata": {},
   "outputs": [],
   "source": [
    "alpha = [\"а\", \"б\", \"в\", \"г\", \"д\", \"е\", \"ё\", \"ж\", \"з\", \"и\", \"й\", \"к\", \"л\", \"м\", \"н\", \"о\", \"п\", \"р\", \"с\", \"т\", \"у\", \"ф\", \"х\", \"ц\", \"ч\", \"ш\", \"щ\", \"ъ\", \"ы\", \"ь\", \"э\", \"ю\",\"я\",\" \"]"
   ]
  },
  {
   "cell_type": "code",
   "execution_count": 39,
   "id": "8457671e",
   "metadata": {},
   "outputs": [
    {
     "name": "stdout",
     "output_type": "stream",
     "text": [
      "абвгдеёжзийклмнопрстуфхцчшщъыьэюя\n"
     ]
    }
   ],
   "source": [
    "phrase = input().lower()\n",
    "res = \"\""
   ]
  },
  {
   "cell_type": "code",
   "execution_count": 40,
   "id": "2ec83c11",
   "metadata": {},
   "outputs": [
    {
     "data": {
      "text/plain": [
       "34"
      ]
     },
     "execution_count": 40,
     "metadata": {},
     "output_type": "execute_result"
    }
   ],
   "source": [
    "len(alpha)"
   ]
  },
  {
   "cell_type": "code",
   "execution_count": 41,
   "id": "db5bffe6",
   "metadata": {},
   "outputs": [],
   "source": [
    "for item in phrase:\n",
    "    try:\n",
    "        curr_index=alpha.index(item)\n",
    "        new=33-curr_index\n",
    "        res+=alpha[new]\n",
    "    except ValueError:\n",
    "        res+=item"
   ]
  },
  {
   "cell_type": "code",
   "execution_count": 42,
   "id": "eab6cdeb",
   "metadata": {},
   "outputs": [
    {
     "name": "stdout",
     "output_type": "stream",
     "text": [
      " яюэьыъщшчцхфутсрпонмлкйизжёедгвб\n"
     ]
    }
   ],
   "source": [
    "print(res)"
   ]
  },
  {
   "cell_type": "code",
   "execution_count": null,
   "id": "a35114c8",
   "metadata": {},
   "outputs": [],
   "source": []
  }
 ],
 "metadata": {
  "kernelspec": {
   "display_name": "Python 3",
   "language": "python",
   "name": "python3"
  },
  "language_info": {
   "codemirror_mode": {
    "name": "ipython",
    "version": 3
   },
   "file_extension": ".py",
   "mimetype": "text/x-python",
   "name": "python",
   "nbconvert_exporter": "python",
   "pygments_lexer": "ipython3",
   "version": "3.8.8"
  }
 },
 "nbformat": 4,
 "nbformat_minor": 5
}
